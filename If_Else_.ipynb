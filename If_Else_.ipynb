{
  "nbformat": 4,
  "nbformat_minor": 0,
  "metadata": {
    "colab": {
      "provenance": [],
      "collapsed_sections": [],
      "authorship_tag": "ABX9TyPuTdSTDlrFAglST3gAvabp",
      "include_colab_link": true
    },
    "kernelspec": {
      "name": "python3",
      "display_name": "Python 3"
    },
    "language_info": {
      "name": "python"
    }
  },
  "cells": [
    {
      "cell_type": "markdown",
      "metadata": {
        "id": "view-in-github",
        "colab_type": "text"
      },
      "source": [
        "<a href=\"https://colab.research.google.com/github/mridulbunny07/Python/blob/main/If_Else_.ipynb\" target=\"_parent\"><img src=\"https://colab.research.google.com/assets/colab-badge.svg\" alt=\"Open In Colab\"/></a>"
      ]
    },
    {
      "cell_type": "code",
      "source": [
        "#if statment\n",
        "a=25\n",
        "b=20"
      ],
      "metadata": {
        "id": "daWechIiZfzk"
      },
      "execution_count": null,
      "outputs": []
    },
    {
      "cell_type": "code",
      "source": [
        "if a<b:\n",
        "    print(\"a is greater than b \")"
      ],
      "metadata": {
        "id": "zao-3A-hZjOf"
      },
      "execution_count": null,
      "outputs": []
    },
    {
      "cell_type": "code",
      "source": [
        "if a>b:\n",
        "    print(\"a is greater than b \")"
      ],
      "metadata": {
        "colab": {
          "base_uri": "https://localhost:8080/"
        },
        "id": "JQ6duuOUZsxG",
        "outputId": "dd4f6e1f-b29a-4bf5-d47d-a56c28d8a541"
      },
      "execution_count": null,
      "outputs": [
        {
          "output_type": "stream",
          "name": "stdout",
          "text": [
            "a is greater than b \n"
          ]
        }
      ]
    },
    {
      "cell_type": "code",
      "execution_count": null,
      "metadata": {
        "id": "yZ4pRVCvWXA6"
      },
      "outputs": [],
      "source": [
        "#if else statment\n",
        "a=250\n",
        "b=220"
      ]
    },
    {
      "cell_type": "code",
      "source": [
        "if a<b:\n",
        "    print(\"a is greater than b \")\n",
        "else:\n",
        "    print(\"b is smaller than a \")"
      ],
      "metadata": {
        "colab": {
          "base_uri": "https://localhost:8080/"
        },
        "id": "p9sUlI72WkyG",
        "outputId": "4378bdb5-c0f9-438a-a775-efcc6a05e3ed"
      },
      "execution_count": null,
      "outputs": [
        {
          "output_type": "stream",
          "name": "stdout",
          "text": [
            "b is smaller than a \n"
          ]
        }
      ]
    },
    {
      "cell_type": "code",
      "source": [
        "#elsi statment\n",
        "a=20\n",
        "b=25\n",
        "c=30"
      ],
      "metadata": {
        "id": "Mk6SRLXmZzIW"
      },
      "execution_count": null,
      "outputs": []
    },
    {
      "cell_type": "code",
      "source": [
        "if (a<b & a>c):\n",
        "    print(\"a is the greatest\")\n",
        "elif (b<a & b>c):\n",
        "    print(\"b is the greatest\")\n",
        "else:\n",
        "    print(\"c is the greatest\")"
      ],
      "metadata": {
        "colab": {
          "base_uri": "https://localhost:8080/"
        },
        "id": "__NubgN8aTMe",
        "outputId": "e656b297-33b5-4a3d-fff6-34dfda169bff"
      },
      "execution_count": null,
      "outputs": [
        {
          "output_type": "stream",
          "name": "stdout",
          "text": [
            "c is the greatest\n"
          ]
        }
      ]
    }
  ]
}